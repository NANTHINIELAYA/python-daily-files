{
 "cells": [
  {
   "cell_type": "code",
   "execution_count": 1,
   "metadata": {},
   "outputs": [
    {
     "name": "stdout",
     "output_type": "stream",
     "text": [
      "nanthini <class 'str'>\n"
     ]
    }
   ],
   "source": [
    "name=(\"nanthini\")\n",
    "print(name, type(name))"
   ]
  },
  {
   "cell_type": "code",
   "execution_count": 16,
   "metadata": {},
   "outputs": [
    {
     "name": "stdout",
     "output_type": "stream",
     "text": [
      "nanthini <class 'str'>\n",
      "28 <class 'int'>\n",
      "kumbakonam <class 'str'>\n",
      "True <class 'bool'>\n",
      "8.1 <class 'float'>\n",
      "['blue', 'yellow', 'green'] <class 'list'>\n",
      "{1, 2, 3} <class 'set'>\n",
      "{'BE': 'CSE', 'PASSOUT': '2017'} <class 'dict'>\n",
      "('husband', 'son') <class 'tuple'>\n"
     ]
    }
   ],
   "source": [
    "name=\"nanthini\"\n",
    "print(name, type(name))\n",
    "\n",
    "age=28\n",
    "print(age,type(age))\n",
    "\n",
    "native=\"kumbakonam\"\n",
    "print(native,type(native))\n",
    "\n",
    "maritalstatus=True\n",
    "print(maritalstatus,type(maritalstatus))\n",
    "\n",
    "cgpa=8.1\n",
    "print(cgpa,type(cgpa))\n",
    "\n",
    "fav_color=[\"blue\", \"yellow\", \"green\"]\n",
    "print(fav_color, type(fav_color))\n",
    "\n",
    "fav_number={1,2,3}\n",
    "print(fav_number, type(fav_number))\n",
    "\n",
    "education={\"BE\":\"CSE\",\"PASSOUT\":\"2017\"}\n",
    "print(education,type(education))\n",
    "\n",
    "family=(\"husband\",\"son\")\n",
    "print(family, type(family))\n",
    "\n"
   ]
  },
  {
   "cell_type": "code",
   "execution_count": null,
   "metadata": {},
   "outputs": [],
   "source": []
  }
 ],
 "metadata": {
  "kernelspec": {
   "display_name": "Python 3",
   "language": "python",
   "name": "python3"
  },
  "language_info": {
   "codemirror_mode": {
    "name": "ipython",
    "version": 3
   },
   "file_extension": ".py",
   "mimetype": "text/x-python",
   "name": "python",
   "nbconvert_exporter": "python",
   "pygments_lexer": "ipython3",
   "version": "3.12.0"
  }
 },
 "nbformat": 4,
 "nbformat_minor": 2
}
