{
 "cells": [
  {
   "cell_type": "code",
   "execution_count": 1,
   "metadata": {},
   "outputs": [],
   "source": [
    "#if and elif condition"
   ]
  },
  {
   "cell_type": "code",
   "execution_count": 2,
   "metadata": {},
   "outputs": [
    {
     "name": "stdout",
     "output_type": "stream",
     "text": [
      "you are an adult\n"
     ]
    }
   ],
   "source": [
    "age = int(input(\"enter your age\"))\n",
    "if age >= 18:\n",
    "    print(\"you are an adult\")\n",
    "elif age >= 60:\n",
    "    print(\"you are an senior citizen\")\n",
    "else:\n",
    "    print(\"you are a children\")"
   ]
  },
  {
   "cell_type": "markdown",
   "metadata": {},
   "source": [
    "#else statements"
   ]
  },
  {
   "cell_type": "code",
   "execution_count": 3,
   "metadata": {},
   "outputs": [
    {
     "name": "stdout",
     "output_type": "stream",
     "text": [
      "odd\n"
     ]
    }
   ],
   "source": [
    "num = int(input(\"enter your number\"))\n",
    "if num % 3 == 0:\n",
    "    print (\"odd\")\n",
    "else:\n",
    "    print(\"even\" , type(num) , num )"
   ]
  },
  {
   "cell_type": "markdown",
   "metadata": {},
   "source": [
    "nested conditional statements"
   ]
  },
  {
   "cell_type": "code",
   "execution_count": 4,
   "metadata": {},
   "outputs": [
    {
     "name": "stdout",
     "output_type": "stream",
     "text": [
      "positive even number\n"
     ]
    }
   ],
   "source": [
    "num = int(input(\"enter your number\"))\n",
    "if num > 0:\n",
    "    if num % 2 == 0:\n",
    "\n",
    "        print(\"positive even number\")\n",
    "    else:\n",
    "        print(\"positive odd number\")\n",
    "\n",
    "else:\n",
    "    print(\"non positive number\")"
   ]
  },
  {
   "cell_type": "code",
   "execution_count": 11,
   "metadata": {},
   "outputs": [
    {
     "name": "stdout",
     "output_type": "stream",
     "text": [
      "my name is, Nanthini_E\n",
      "2.0\n",
      "my age is, 28\n"
     ]
    }
   ],
   "source": [
    "import module\n",
    "\n",
    "module.nanthini(\"Nanthini_E\")\n",
    "\n",
    "#print(module.age)\n",
    "print(module.divide_numbers(10,5))\n",
    "module.age(28)\n"
   ]
  },
  {
   "cell_type": "code",
   "execution_count": 10,
   "metadata": {},
   "outputs": [
    {
     "name": "stdout",
     "output_type": "stream",
     "text": [
      "my age is, 28\n"
     ]
    }
   ],
   "source": [
    "module.age(28)\n"
   ]
  },
  {
   "cell_type": "code",
   "execution_count": null,
   "metadata": {},
   "outputs": [],
   "source": []
  }
 ],
 "metadata": {
  "kernelspec": {
   "display_name": "venv",
   "language": "python",
   "name": "python3"
  },
  "language_info": {
   "codemirror_mode": {
    "name": "ipython",
    "version": 3
   },
   "file_extension": ".py",
   "mimetype": "text/x-python",
   "name": "python",
   "nbconvert_exporter": "python",
   "pygments_lexer": "ipython3",
   "version": "3.12.0"
  }
 },
 "nbformat": 4,
 "nbformat_minor": 2
}
