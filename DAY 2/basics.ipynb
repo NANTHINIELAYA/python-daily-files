{
 "cells": [
  {
   "cell_type": "code",
   "execution_count": 7,
   "metadata": {},
   "outputs": [
    {
     "name": "stdout",
     "output_type": "stream",
     "text": [
      "Myself Nanthini.Iam working in BU_soft_tech.\n",
      "Iam in  IT team worked as devops engineer trainee. \n",
      "Place:\tChennai.\n"
     ]
    }
   ],
   "source": [
    "name=\"Nanthini\"\n",
    "company=\"BU_soft_tech\"\n",
    "team=\"IT team\"\n",
    "designation=\"devops engineer trainee.\"\n",
    "print(f\"Myself {name}.Iam working in {company}.\")\n",
    "print(\"Iam in \", team , \"worked as\" , designation , \"\\nPlace:\\tChennai.\")"
   ]
  },
  {
   "cell_type": "code",
   "execution_count": 9,
   "metadata": {},
   "outputs": [
    {
     "name": "stdout",
     "output_type": "stream",
     "text": [
      "False\n",
      "None\n",
      "True\n",
      "and\n",
      "as\n",
      "assert\n",
      "async\n",
      "await\n",
      "break\n",
      "class\n",
      "continue\n",
      "def\n",
      "del\n",
      "elif\n",
      "else\n",
      "except\n",
      "finally\n",
      "for\n",
      "from\n",
      "global\n",
      "if\n",
      "import\n",
      "in\n",
      "is\n",
      "lambda\n",
      "nonlocal\n",
      "not\n",
      "or\n",
      "pass\n",
      "raise\n",
      "return\n",
      "try\n",
      "while\n",
      "with\n",
      "yield\n"
     ]
    }
   ],
   "source": [
    "import keyword\n",
    "key=keyword.kwlist\n",
    "for i in key:\n",
    "    print(i)"
   ]
  },
  {
   "cell_type": "code",
   "execution_count": 12,
   "metadata": {},
   "outputs": [
    {
     "ename": "SyntaxError",
     "evalue": "invalid syntax (3926837683.py, line 1)",
     "output_type": "error",
     "traceback": [
      "\u001b[1;36m  Cell \u001b[1;32mIn[12], line 1\u001b[1;36m\u001b[0m\n\u001b[1;33m    help(assert)\u001b[0m\n\u001b[1;37m         ^\u001b[0m\n\u001b[1;31mSyntaxError\u001b[0m\u001b[1;31m:\u001b[0m invalid syntax\n"
     ]
    }
   ],
   "source": [
    "help(assert)"
   ]
  },
  {
   "cell_type": "code",
   "execution_count": 14,
   "metadata": {},
   "outputs": [
    {
     "name": "stdout",
     "output_type": "stream",
     "text": [
      "Help on bool object:\n",
      "\n",
      "class bool(int)\n",
      " |  bool(x) -> bool\n",
      " |\n",
      " |  Returns True when the argument x is true, False otherwise.\n",
      " |  The builtins True and False are the only two instances of the class bool.\n",
      " |  The class bool is a subclass of the class int, and cannot be subclassed.\n",
      " |\n",
      " |  Method resolution order:\n",
      " |      bool\n",
      " |      int\n",
      " |      object\n",
      " |\n",
      " |  Methods defined here:\n",
      " |\n",
      " |  __and__(self, value, /)\n",
      " |      Return self&value.\n",
      " |\n",
      " |  __invert__(self, /)\n",
      " |      ~self\n",
      " |\n",
      " |  __or__(self, value, /)\n",
      " |      Return self|value.\n",
      " |\n",
      " |  __rand__(self, value, /)\n",
      " |      Return value&self.\n",
      " |\n",
      " |  __repr__(self, /)\n",
      " |      Return repr(self).\n",
      " |\n",
      " |  __ror__(self, value, /)\n",
      " |      Return value|self.\n",
      " |\n",
      " |  __rxor__(self, value, /)\n",
      " |      Return value^self.\n",
      " |\n",
      " |  __xor__(self, value, /)\n",
      " |      Return self^value.\n",
      " |\n",
      " |  ----------------------------------------------------------------------\n",
      " |  Static methods defined here:\n",
      " |\n",
      " |  __new__(*args, **kwargs) from builtins.type\n",
      " |      Create and return a new object.  See help(type) for accurate signature.\n",
      " |\n",
      " |  ----------------------------------------------------------------------\n",
      " |  Methods inherited from int:\n",
      " |\n",
      " |  __abs__(self, /)\n",
      " |      abs(self)\n",
      " |\n",
      " |  __add__(self, value, /)\n",
      " |      Return self+value.\n",
      " |\n",
      " |  __bool__(self, /)\n",
      " |      True if self else False\n",
      " |\n",
      " |  __ceil__(...)\n",
      " |      Ceiling of an Integral returns itself.\n",
      " |\n",
      " |  __divmod__(self, value, /)\n",
      " |      Return divmod(self, value).\n",
      " |\n",
      " |  __eq__(self, value, /)\n",
      " |      Return self==value.\n",
      " |\n",
      " |  __float__(self, /)\n",
      " |      float(self)\n",
      " |\n",
      " |  __floor__(...)\n",
      " |      Flooring an Integral returns itself.\n",
      " |\n",
      " |  __floordiv__(self, value, /)\n",
      " |      Return self//value.\n",
      " |\n",
      " |  __format__(self, format_spec, /)\n",
      " |      Convert to a string according to format_spec.\n",
      " |\n",
      " |  __ge__(self, value, /)\n",
      " |      Return self>=value.\n",
      " |\n",
      " |  __getattribute__(self, name, /)\n",
      " |      Return getattr(self, name).\n",
      " |\n",
      " |  __getnewargs__(self, /)\n",
      " |\n",
      " |  __gt__(self, value, /)\n",
      " |      Return self>value.\n",
      " |\n",
      " |  __hash__(self, /)\n",
      " |      Return hash(self).\n",
      " |\n",
      " |  __index__(self, /)\n",
      " |      Return self converted to an integer, if self is suitable for use as an index into a list.\n",
      " |\n",
      " |  __int__(self, /)\n",
      " |      int(self)\n",
      " |\n",
      " |  __le__(self, value, /)\n",
      " |      Return self<=value.\n",
      " |\n",
      " |  __lshift__(self, value, /)\n",
      " |      Return self<<value.\n",
      " |\n",
      " |  __lt__(self, value, /)\n",
      " |      Return self<value.\n",
      " |\n",
      " |  __mod__(self, value, /)\n",
      " |      Return self%value.\n",
      " |\n",
      " |  __mul__(self, value, /)\n",
      " |      Return self*value.\n",
      " |\n",
      " |  __ne__(self, value, /)\n",
      " |      Return self!=value.\n",
      " |\n",
      " |  __neg__(self, /)\n",
      " |      -self\n",
      " |\n",
      " |  __pos__(self, /)\n",
      " |      +self\n",
      " |\n",
      " |  __pow__(self, value, mod=None, /)\n",
      " |      Return pow(self, value, mod).\n",
      " |\n",
      " |  __radd__(self, value, /)\n",
      " |      Return value+self.\n",
      " |\n",
      " |  __rdivmod__(self, value, /)\n",
      " |      Return divmod(value, self).\n",
      " |\n",
      " |  __rfloordiv__(self, value, /)\n",
      " |      Return value//self.\n",
      " |\n",
      " |  __rlshift__(self, value, /)\n",
      " |      Return value<<self.\n",
      " |\n",
      " |  __rmod__(self, value, /)\n",
      " |      Return value%self.\n",
      " |\n",
      " |  __rmul__(self, value, /)\n",
      " |      Return value*self.\n",
      " |\n",
      " |  __round__(...)\n",
      " |      Rounding an Integral returns itself.\n",
      " |\n",
      " |      Rounding with an ndigits argument also returns an integer.\n",
      " |\n",
      " |  __rpow__(self, value, mod=None, /)\n",
      " |      Return pow(value, self, mod).\n",
      " |\n",
      " |  __rrshift__(self, value, /)\n",
      " |      Return value>>self.\n",
      " |\n",
      " |  __rshift__(self, value, /)\n",
      " |      Return self>>value.\n",
      " |\n",
      " |  __rsub__(self, value, /)\n",
      " |      Return value-self.\n",
      " |\n",
      " |  __rtruediv__(self, value, /)\n",
      " |      Return value/self.\n",
      " |\n",
      " |  __sizeof__(self, /)\n",
      " |      Returns size in memory, in bytes.\n",
      " |\n",
      " |  __sub__(self, value, /)\n",
      " |      Return self-value.\n",
      " |\n",
      " |  __truediv__(self, value, /)\n",
      " |      Return self/value.\n",
      " |\n",
      " |  __trunc__(...)\n",
      " |      Truncating an Integral returns itself.\n",
      " |\n",
      " |  as_integer_ratio(self, /)\n",
      " |      Return a pair of integers, whose ratio is equal to the original int.\n",
      " |\n",
      " |      The ratio is in lowest terms and has a positive denominator.\n",
      " |\n",
      " |      >>> (10).as_integer_ratio()\n",
      " |      (10, 1)\n",
      " |      >>> (-10).as_integer_ratio()\n",
      " |      (-10, 1)\n",
      " |      >>> (0).as_integer_ratio()\n",
      " |      (0, 1)\n",
      " |\n",
      " |  bit_count(self, /)\n",
      " |      Number of ones in the binary representation of the absolute value of self.\n",
      " |\n",
      " |      Also known as the population count.\n",
      " |\n",
      " |      >>> bin(13)\n",
      " |      '0b1101'\n",
      " |      >>> (13).bit_count()\n",
      " |      3\n",
      " |\n",
      " |  bit_length(self, /)\n",
      " |      Number of bits necessary to represent self in binary.\n",
      " |\n",
      " |      >>> bin(37)\n",
      " |      '0b100101'\n",
      " |      >>> (37).bit_length()\n",
      " |      6\n",
      " |\n",
      " |  conjugate(...)\n",
      " |      Returns self, the complex conjugate of any int.\n",
      " |\n",
      " |  is_integer(self, /)\n",
      " |      Returns True. Exists for duck type compatibility with float.is_integer.\n",
      " |\n",
      " |  to_bytes(self, /, length=1, byteorder='big', *, signed=False)\n",
      " |      Return an array of bytes representing an integer.\n",
      " |\n",
      " |      length\n",
      " |        Length of bytes object to use.  An OverflowError is raised if the\n",
      " |        integer is not representable with the given number of bytes.  Default\n",
      " |        is length 1.\n",
      " |      byteorder\n",
      " |        The byte order used to represent the integer.  If byteorder is 'big',\n",
      " |        the most significant byte is at the beginning of the byte array.  If\n",
      " |        byteorder is 'little', the most significant byte is at the end of the\n",
      " |        byte array.  To request the native byte order of the host system, use\n",
      " |        `sys.byteorder' as the byte order value.  Default is to use 'big'.\n",
      " |      signed\n",
      " |        Determines whether two's complement is used to represent the integer.\n",
      " |        If signed is False and a negative integer is given, an OverflowError\n",
      " |        is raised.\n",
      " |\n",
      " |  ----------------------------------------------------------------------\n",
      " |  Class methods inherited from int:\n",
      " |\n",
      " |  from_bytes(bytes, byteorder='big', *, signed=False) from builtins.type\n",
      " |      Return the integer represented by the given array of bytes.\n",
      " |\n",
      " |      bytes\n",
      " |        Holds the array of bytes to convert.  The argument must either\n",
      " |        support the buffer protocol or be an iterable object producing bytes.\n",
      " |        Bytes and bytearray are examples of built-in objects that support the\n",
      " |        buffer protocol.\n",
      " |      byteorder\n",
      " |        The byte order used to represent the integer.  If byteorder is 'big',\n",
      " |        the most significant byte is at the beginning of the byte array.  If\n",
      " |        byteorder is 'little', the most significant byte is at the end of the\n",
      " |        byte array.  To request the native byte order of the host system, use\n",
      " |        `sys.byteorder' as the byte order value.  Default is to use 'big'.\n",
      " |      signed\n",
      " |        Indicates whether two's complement is used to represent the integer.\n",
      " |\n",
      " |  ----------------------------------------------------------------------\n",
      " |  Data descriptors inherited from int:\n",
      " |\n",
      " |  denominator\n",
      " |      the denominator of a rational number in lowest terms\n",
      " |\n",
      " |  imag\n",
      " |      the imaginary part of a complex number\n",
      " |\n",
      " |  numerator\n",
      " |      the numerator of a rational number in lowest terms\n",
      " |\n",
      " |  real\n",
      " |      the real part of a complex number\n",
      "\n"
     ]
    }
   ],
   "source": [
    "help(False)"
   ]
  },
  {
   "cell_type": "code",
   "execution_count": 15,
   "metadata": {},
   "outputs": [
    {
     "ename": "SyntaxError",
     "evalue": "invalid syntax (3926837683.py, line 1)",
     "output_type": "error",
     "traceback": [
      "\u001b[1;36m  Cell \u001b[1;32mIn[15], line 1\u001b[1;36m\u001b[0m\n\u001b[1;33m    help(assert)\u001b[0m\n\u001b[1;37m         ^\u001b[0m\n\u001b[1;31mSyntaxError\u001b[0m\u001b[1;31m:\u001b[0m invalid syntax\n"
     ]
    }
   ],
   "source": [
    "help(assert)"
   ]
  },
  {
   "cell_type": "code",
   "execution_count": 16,
   "metadata": {},
   "outputs": [
    {
     "ename": "SyntaxError",
     "evalue": "invalid syntax (479314746.py, line 1)",
     "output_type": "error",
     "traceback": [
      "\u001b[1;36m  Cell \u001b[1;32mIn[16], line 1\u001b[1;36m\u001b[0m\n\u001b[1;33m    dir(assert)\u001b[0m\n\u001b[1;37m        ^\u001b[0m\n\u001b[1;31mSyntaxError\u001b[0m\u001b[1;31m:\u001b[0m invalid syntax\n"
     ]
    }
   ],
   "source": [
    "dir(assert)"
   ]
  },
  {
   "cell_type": "code",
   "execution_count": 17,
   "metadata": {},
   "outputs": [
    {
     "ename": "SyntaxError",
     "evalue": "invalid syntax (4077688084.py, line 1)",
     "output_type": "error",
     "traceback": [
      "\u001b[1;36m  Cell \u001b[1;32mIn[17], line 1\u001b[1;36m\u001b[0m\n\u001b[1;33m    help(while)\u001b[0m\n\u001b[1;37m         ^\u001b[0m\n\u001b[1;31mSyntaxError\u001b[0m\u001b[1;31m:\u001b[0m invalid syntax\n"
     ]
    }
   ],
   "source": [
    "help(while)"
   ]
  },
  {
   "cell_type": "code",
   "execution_count": 18,
   "metadata": {},
   "outputs": [
    {
     "name": "stdout",
     "output_type": "stream",
     "text": [
      "\n",
      "Welcome to Python 3.12's help utility!\n",
      "\n",
      "If this is your first time using Python, you should definitely check out\n",
      "the tutorial on the internet at https://docs.python.org/3.12/tutorial/.\n",
      "\n",
      "Enter the name of any module, keyword, or topic to get help on writing\n",
      "Python programs and using Python modules.  To quit this help utility and\n",
      "return to the interpreter, just type \"quit\".\n",
      "\n",
      "To get a list of available modules, keywords, symbols, or topics, type\n",
      "\"modules\", \"keywords\", \"symbols\", or \"topics\".  Each module also comes\n",
      "with a one-line summary of what it does; to list the modules whose name\n",
      "or summary contain a given string such as \"spam\", type \"modules spam\".\n",
      "\n",
      "The \"assert\" statement\n",
      "**********************\n",
      "\n",
      "Assert statements are a convenient way to insert debugging assertions\n",
      "into a program:\n",
      "\n",
      "   assert_stmt ::= \"assert\" expression [\",\" expression]\n",
      "\n",
      "The simple form, \"assert expression\", is equivalent to\n",
      "\n",
      "   if __debug__:\n",
      "       if not expression: raise AssertionError\n",
      "\n",
      "The extended form, \"assert expression1, expression2\", is equivalent to\n",
      "\n",
      "   if __debug__:\n",
      "       if not expression1: raise AssertionError(expression2)\n",
      "\n",
      "These equivalences assume that \"__debug__\" and \"AssertionError\" refer\n",
      "to the built-in variables with those names.  In the current\n",
      "implementation, the built-in variable \"__debug__\" is \"True\" under\n",
      "normal circumstances, \"False\" when optimization is requested (command\n",
      "line option \"-O\").  The current code generator emits no code for an\n",
      "assert statement when optimization is requested at compile time.  Note\n",
      "that it is unnecessary to include the source code for the expression\n",
      "that failed in the error message; it will be displayed as part of the\n",
      "stack trace.\n",
      "\n",
      "Assignments to \"__debug__\" are illegal.  The value for the built-in\n",
      "variable is determined when the interpreter starts.\n",
      "\n",
      "The \"try\" statement\n",
      "*******************\n",
      "\n",
      "The \"try\" statement specifies exception handlers and/or cleanup code\n",
      "for a group of statements:\n",
      "\n",
      "   try_stmt  ::= try1_stmt | try2_stmt | try3_stmt\n",
      "   try1_stmt ::= \"try\" \":\" suite\n",
      "                 (\"except\" [expression [\"as\" identifier]] \":\" suite)+\n",
      "                 [\"else\" \":\" suite]\n",
      "                 [\"finally\" \":\" suite]\n",
      "   try2_stmt ::= \"try\" \":\" suite\n",
      "                 (\"except\" \"*\" expression [\"as\" identifier] \":\" suite)+\n",
      "                 [\"else\" \":\" suite]\n",
      "                 [\"finally\" \":\" suite]\n",
      "   try3_stmt ::= \"try\" \":\" suite\n",
      "                 \"finally\" \":\" suite\n",
      "\n",
      "Additional information on exceptions can be found in section\n",
      "Exceptions, and information on using the \"raise\" statement to generate\n",
      "exceptions may be found in section The raise statement.\n",
      "\n",
      "\n",
      "\"except\" clause\n",
      "===============\n",
      "\n",
      "The \"except\" clause(s) specify one or more exception handlers. When no\n",
      "exception occurs in the \"try\" clause, no exception handler is\n",
      "executed. When an exception occurs in the \"try\" suite, a search for an\n",
      "exception handler is started. This search inspects the \"except\"\n",
      "clauses in turn until one is found that matches the exception. An\n",
      "expression-less \"except\" clause, if present, must be last; it matches\n",
      "any exception. For an \"except\" clause with an expression, that\n",
      "expression is evaluated, and the clause matches the exception if the\n",
      "resulting object is “compatible” with the exception.  An object is\n",
      "compatible with an exception if the object is the class or a *non-\n",
      "virtual base class* of the exception object, or a tuple containing an\n",
      "item that is the class or a non-virtual base class of the exception\n",
      "object.\n",
      "\n",
      "If no \"except\" clause matches the exception, the search for an\n",
      "exception handler continues in the surrounding code and on the\n",
      "invocation stack.  [1]\n",
      "\n",
      "If the evaluation of an expression in the header of an \"except\" clause\n",
      "raises an exception, the original search for a handler is canceled and\n",
      "a search starts for the new exception in the surrounding code and on\n",
      "the call stack (it is treated as if the entire \"try\" statement raised\n",
      "the exception).\n",
      "\n",
      "When a matching \"except\" clause is found, the exception is assigned to\n",
      "the target specified after the \"as\" keyword in that \"except\" clause,\n",
      "if present, and the \"except\" clause’s suite is executed. All \"except\"\n",
      "clauses must have an executable block. When the end of this block is\n",
      "reached, execution continues normally after the entire \"try\"\n",
      "statement. (This means that if two nested handlers exist for the same\n",
      "exception, and the exception occurs in the \"try\" clause of the inner\n",
      "handler, the outer handler will not handle the exception.)\n",
      "\n",
      "When an exception has been assigned using \"as target\", it is cleared\n",
      "at the end of the \"except\" clause.  This is as if\n",
      "\n",
      "   except E as N:\n",
      "       foo\n",
      "\n",
      "was translated to\n",
      "\n",
      "   except E as N:\n",
      "       try:\n",
      "           foo\n",
      "       finally:\n",
      "           del N\n",
      "\n",
      "This means the exception must be assigned to a different name to be\n",
      "able to refer to it after the \"except\" clause. Exceptions are cleared\n",
      "because with the traceback attached to them, they form a reference\n",
      "cycle with the stack frame, keeping all locals in that frame alive\n",
      "until the next garbage collection occurs.\n",
      "\n",
      "Before an \"except\" clause’s suite is executed, the exception is stored\n",
      "in the \"sys\" module, where it can be accessed from within the body of\n",
      "the \"except\" clause by calling \"sys.exception()\". When leaving an\n",
      "exception handler, the exception stored in the \"sys\" module is reset\n",
      "to its previous value:\n",
      "\n",
      "   >>> print(sys.exception())\n",
      "   None\n",
      "   >>> try:\n",
      "   ...     raise TypeError\n",
      "   ... except:\n",
      "   ...     print(repr(sys.exception()))\n",
      "   ...     try:\n",
      "   ...          raise ValueError\n",
      "   ...     except:\n",
      "   ...         print(repr(sys.exception()))\n",
      "   ...     print(repr(sys.exception()))\n",
      "   ...\n",
      "   TypeError()\n",
      "   ValueError()\n",
      "   TypeError()\n",
      "   >>> print(sys.exception())\n",
      "   None\n",
      "\n",
      "\n",
      "\"except*\" clause\n",
      "================\n",
      "\n",
      "The \"except*\" clause(s) are used for handling \"ExceptionGroup\"s. The\n",
      "exception type for matching is interpreted as in the case of \"except\",\n",
      "but in the case of exception groups we can have partial matches when\n",
      "the type matches some of the exceptions in the group. This means that\n",
      "multiple \"except*\" clauses can execute, each handling part of the\n",
      "exception group. Each clause executes at most once and handles an\n",
      "exception group of all matching exceptions.  Each exception in the\n",
      "group is handled by at most one \"except*\" clause, the first that\n",
      "matches it.\n",
      "\n",
      "   >>> try:\n",
      "   ...     raise ExceptionGroup(\"eg\",\n",
      "   ...         [ValueError(1), TypeError(2), OSError(3), OSError(4)])\n",
      "   ... except* TypeError as e:\n",
      "   ...     print(f'caught {type(e)} with nested {e.exceptions}')\n",
      "   ... except* OSError as e:\n",
      "   ...     print(f'caught {type(e)} with nested {e.exceptions}')\n",
      "   ...\n",
      "   caught <class 'ExceptionGroup'> with nested (TypeError(2),)\n",
      "   caught <class 'ExceptionGroup'> with nested (OSError(3), OSError(4))\n",
      "     + Exception Group Traceback (most recent call last):\n",
      "     |   File \"<stdin>\", line 2, in <module>\n",
      "     | ExceptionGroup: eg\n",
      "     +-+---------------- 1 ----------------\n",
      "       | ValueError: 1\n",
      "       +------------------------------------\n",
      "\n",
      "Any remaining exceptions that were not handled by any \"except*\" clause\n",
      "are re-raised at the end, along with all exceptions that were raised\n",
      "from within the \"except*\" clauses. If this list contains more than one\n",
      "exception to reraise, they are combined into an exception group.\n",
      "\n",
      "If the raised exception is not an exception group and its type matches\n",
      "one of the \"except*\" clauses, it is caught and wrapped by an exception\n",
      "group with an empty message string.\n",
      "\n",
      "   >>> try:\n",
      "   ...     raise BlockingIOError\n",
      "   ... except* BlockingIOError as e:\n",
      "   ...     print(repr(e))\n",
      "   ...\n",
      "   ExceptionGroup('', (BlockingIOError()))\n",
      "\n",
      "An \"except*\" clause must have a matching type, and this type cannot be\n",
      "a subclass of \"BaseExceptionGroup\". It is not possible to mix \"except\"\n",
      "and \"except*\" in the same \"try\". \"break\", \"continue\" and \"return\"\n",
      "cannot appear in an \"except*\" clause.\n",
      "\n",
      "\n",
      "\"else\" clause\n",
      "=============\n",
      "\n",
      "The optional \"else\" clause is executed if the control flow leaves the\n",
      "\"try\" suite, no exception was raised, and no \"return\", \"continue\", or\n",
      "\"break\" statement was executed.  Exceptions in the \"else\" clause are\n",
      "not handled by the preceding \"except\" clauses.\n",
      "\n",
      "\n",
      "\"finally\" clause\n",
      "================\n",
      "\n",
      "If \"finally\" is present, it specifies a ‘cleanup’ handler.  The \"try\"\n",
      "clause is executed, including any \"except\" and \"else\" clauses.  If an\n",
      "exception occurs in any of the clauses and is not handled, the\n",
      "exception is temporarily saved. The \"finally\" clause is executed.  If\n",
      "there is a saved exception it is re-raised at the end of the \"finally\"\n",
      "clause.  If the \"finally\" clause raises another exception, the saved\n",
      "exception is set as the context of the new exception. If the \"finally\"\n",
      "clause executes a \"return\", \"break\" or \"continue\" statement, the saved\n",
      "exception is discarded:\n",
      "\n",
      "   >>> def f():\n",
      "   ...     try:\n",
      "   ...         1/0\n",
      "   ...     finally:\n",
      "   ...         return 42\n",
      "   ...\n",
      "   >>> f()\n",
      "   42\n",
      "\n",
      "The exception information is not available to the program during\n",
      "execution of the \"finally\" clause.\n",
      "\n",
      "When a \"return\", \"break\" or \"continue\" statement is executed in the\n",
      "\"try\" suite of a \"try\"…\"finally\" statement, the \"finally\" clause is\n",
      "also executed ‘on the way out.’\n",
      "\n",
      "The return value of a function is determined by the last \"return\"\n",
      "statement executed.  Since the \"finally\" clause always executes, a\n",
      "\"return\" statement executed in the \"finally\" clause will always be the\n",
      "last one executed:\n",
      "\n",
      "   >>> def foo():\n",
      "   ...     try:\n",
      "   ...         return 'try'\n",
      "   ...     finally:\n",
      "   ...         return 'finally'\n",
      "   ...\n",
      "   >>> foo()\n",
      "   'finally'\n",
      "\n",
      "Changed in version 3.8: Prior to Python 3.8, a \"continue\" statement\n",
      "was illegal in the \"finally\" clause due to a problem with the\n",
      "implementation.\n",
      "\n",
      "Related help topics: EXCEPTIONS\n",
      "\n",
      "The \"while\" statement\n",
      "*********************\n",
      "\n",
      "The \"while\" statement is used for repeated execution as long as an\n",
      "expression is true:\n",
      "\n",
      "   while_stmt ::= \"while\" assignment_expression \":\" suite\n",
      "                  [\"else\" \":\" suite]\n",
      "\n",
      "This repeatedly tests the expression and, if it is true, executes the\n",
      "first suite; if the expression is false (which may be the first time\n",
      "it is tested) the suite of the \"else\" clause, if present, is executed\n",
      "and the loop terminates.\n",
      "\n",
      "A \"break\" statement executed in the first suite terminates the loop\n",
      "without executing the \"else\" clause’s suite.  A \"continue\" statement\n",
      "executed in the first suite skips the rest of the suite and goes back\n",
      "to testing the expression.\n",
      "\n",
      "Related help topics: break, continue, if, TRUTHVALUE\n",
      "\n",
      "The \"while\" statement\n",
      "*********************\n",
      "\n",
      "The \"while\" statement is used for repeated execution as long as an\n",
      "expression is true:\n",
      "\n",
      "   while_stmt ::= \"while\" assignment_expression \":\" suite\n",
      "                  [\"else\" \":\" suite]\n",
      "\n",
      "This repeatedly tests the expression and, if it is true, executes the\n",
      "first suite; if the expression is false (which may be the first time\n",
      "it is tested) the suite of the \"else\" clause, if present, is executed\n",
      "and the loop terminates.\n",
      "\n",
      "A \"break\" statement executed in the first suite terminates the loop\n",
      "without executing the \"else\" clause’s suite.  A \"continue\" statement\n",
      "executed in the first suite skips the rest of the suite and goes back\n",
      "to testing the expression.\n",
      "\n",
      "Related help topics: break, continue, if, TRUTHVALUE\n",
      "\n",
      "\n",
      "You are now leaving help and returning to the Python interpreter.\n",
      "If you want to ask for help on a particular object directly from the\n",
      "interpreter, you can type \"help(object)\".  Executing \"help('string')\"\n",
      "has the same effect as typing a particular string at the help> prompt.\n"
     ]
    }
   ],
   "source": [
    "help()"
   ]
  },
  {
   "cell_type": "code",
   "execution_count": 19,
   "metadata": {},
   "outputs": [
    {
     "name": "stdout",
     "output_type": "stream",
     "text": [
      "\n",
      "Welcome to Python 3.12's help utility!\n",
      "\n",
      "If this is your first time using Python, you should definitely check out\n",
      "the tutorial on the internet at https://docs.python.org/3.12/tutorial/.\n",
      "\n",
      "Enter the name of any module, keyword, or topic to get help on writing\n",
      "Python programs and using Python modules.  To quit this help utility and\n",
      "return to the interpreter, just type \"quit\".\n",
      "\n",
      "To get a list of available modules, keywords, symbols, or topics, type\n",
      "\"modules\", \"keywords\", \"symbols\", or \"topics\".  Each module also comes\n",
      "with a one-line summary of what it does; to list the modules whose name\n",
      "or summary contain a given string such as \"spam\", type \"modules spam\".\n",
      "\n",
      "The \"while\" statement\n",
      "*********************\n",
      "\n",
      "The \"while\" statement is used for repeated execution as long as an\n",
      "expression is true:\n",
      "\n",
      "   while_stmt ::= \"while\" assignment_expression \":\" suite\n",
      "                  [\"else\" \":\" suite]\n",
      "\n",
      "This repeatedly tests the expression and, if it is true, executes the\n",
      "first suite; if the expression is false (which may be the first time\n",
      "it is tested) the suite of the \"else\" clause, if present, is executed\n",
      "and the loop terminates.\n",
      "\n",
      "A \"break\" statement executed in the first suite terminates the loop\n",
      "without executing the \"else\" clause’s suite.  A \"continue\" statement\n",
      "executed in the first suite skips the rest of the suite and goes back\n",
      "to testing the expression.\n",
      "\n",
      "Related help topics: break, continue, if, TRUTHVALUE\n",
      "\n",
      "Lambdas\n",
      "*******\n",
      "\n",
      "   lambda_expr ::= \"lambda\" [parameter_list] \":\" expression\n",
      "\n",
      "Lambda expressions (sometimes called lambda forms) are used to create\n",
      "anonymous functions. The expression \"lambda parameters: expression\"\n",
      "yields a function object.  The unnamed object behaves like a function\n",
      "object defined with:\n",
      "\n",
      "   def <lambda>(parameters):\n",
      "       return expression\n",
      "\n",
      "See section Function definitions for the syntax of parameter lists.\n",
      "Note that functions created with lambda expressions cannot contain\n",
      "statements or annotations.\n",
      "\n",
      "Related help topics: FUNCTIONS\n",
      "\n",
      "Lambdas\n",
      "*******\n",
      "\n",
      "   lambda_expr ::= \"lambda\" [parameter_list] \":\" expression\n",
      "\n",
      "Lambda expressions (sometimes called lambda forms) are used to create\n",
      "anonymous functions. The expression \"lambda parameters: expression\"\n",
      "yields a function object.  The unnamed object behaves like a function\n",
      "object defined with:\n",
      "\n",
      "   def <lambda>(parameters):\n",
      "       return expression\n",
      "\n",
      "See section Function definitions for the syntax of parameter lists.\n",
      "Note that functions created with lambda expressions cannot contain\n",
      "statements or annotations.\n",
      "\n",
      "Related help topics: FUNCTIONS\n",
      "\n",
      "Lambdas\n",
      "*******\n",
      "\n",
      "   lambda_expr ::= \"lambda\" [parameter_list] \":\" expression\n",
      "\n",
      "Lambda expressions (sometimes called lambda forms) are used to create\n",
      "anonymous functions. The expression \"lambda parameters: expression\"\n",
      "yields a function object.  The unnamed object behaves like a function\n",
      "object defined with:\n",
      "\n",
      "   def <lambda>(parameters):\n",
      "       return expression\n",
      "\n",
      "See section Function definitions for the syntax of parameter lists.\n",
      "Note that functions created with lambda expressions cannot contain\n",
      "statements or annotations.\n",
      "\n",
      "Related help topics: FUNCTIONS\n",
      "\n",
      "\n",
      "You are now leaving help and returning to the Python interpreter.\n",
      "If you want to ask for help on a particular object directly from the\n",
      "interpreter, you can type \"help(object)\".  Executing \"help('string')\"\n",
      "has the same effect as typing a particular string at the help> prompt.\n"
     ]
    }
   ],
   "source": [
    "help()"
   ]
  },
  {
   "cell_type": "code",
   "execution_count": 22,
   "metadata": {},
   "outputs": [
    {
     "name": "stdout",
     "output_type": "stream",
     "text": [
      "\n",
      "Welcome to Python 3.12's help utility!\n",
      "\n",
      "If this is your first time using Python, you should definitely check out\n",
      "the tutorial on the internet at https://docs.python.org/3.12/tutorial/.\n",
      "\n",
      "Enter the name of any module, keyword, or topic to get help on writing\n",
      "Python programs and using Python modules.  To quit this help utility and\n",
      "return to the interpreter, just type \"quit\".\n",
      "\n",
      "To get a list of available modules, keywords, symbols, or topics, type\n",
      "\"modules\", \"keywords\", \"symbols\", or \"topics\".  Each module also comes\n",
      "with a one-line summary of what it does; to list the modules whose name\n",
      "or summary contain a given string such as \"spam\", type \"modules spam\".\n",
      "\n",
      "Lambdas\n",
      "*******\n",
      "\n",
      "   lambda_expr ::= \"lambda\" [parameter_list] \":\" expression\n",
      "\n",
      "Lambda expressions (sometimes called lambda forms) are used to create\n",
      "anonymous functions. The expression \"lambda parameters: expression\"\n",
      "yields a function object.  The unnamed object behaves like a function\n",
      "object defined with:\n",
      "\n",
      "   def <lambda>(parameters):\n",
      "       return expression\n",
      "\n",
      "See section Function definitions for the syntax of parameter lists.\n",
      "Note that functions created with lambda expressions cannot contain\n",
      "statements or annotations.\n",
      "\n",
      "Related help topics: FUNCTIONS\n",
      "\n",
      "\n",
      "You are now leaving help and returning to the Python interpreter.\n",
      "If you want to ask for help on a particular object directly from the\n",
      "interpreter, you can type \"help(object)\".  Executing \"help('string')\"\n",
      "has the same effect as typing a particular string at the help> prompt.\n"
     ]
    }
   ],
   "source": [
    "help()"
   ]
  },
  {
   "cell_type": "code",
   "execution_count": 26,
   "metadata": {},
   "outputs": [
    {
     "ename": "NameError",
     "evalue": "name 'math' is not defined",
     "output_type": "error",
     "traceback": [
      "\u001b[1;31m---------------------------------------------------------------------------\u001b[0m",
      "\u001b[1;31mNameError\u001b[0m                                 Traceback (most recent call last)",
      "Cell \u001b[1;32mIn[26], line 1\u001b[0m\n\u001b[1;32m----> 1\u001b[0m help(\u001b[43mmath\u001b[49m)\n",
      "\u001b[1;31mNameError\u001b[0m: name 'math' is not defined"
     ]
    }
   ],
   "source": [
    "help(math)"
   ]
  },
  {
   "cell_type": "code",
   "execution_count": 27,
   "metadata": {},
   "outputs": [
    {
     "ename": "NameError",
     "evalue": "name 'Math' is not defined",
     "output_type": "error",
     "traceback": [
      "\u001b[1;31m---------------------------------------------------------------------------\u001b[0m",
      "\u001b[1;31mNameError\u001b[0m                                 Traceback (most recent call last)",
      "Cell \u001b[1;32mIn[27], line 1\u001b[0m\n\u001b[1;32m----> 1\u001b[0m \u001b[38;5;28mdir\u001b[39m(\u001b[43mMath\u001b[49m)\n",
      "\u001b[1;31mNameError\u001b[0m: name 'Math' is not defined"
     ]
    }
   ],
   "source": [
    "dir(Math)"
   ]
  },
  {
   "cell_type": "code",
   "execution_count": 28,
   "metadata": {},
   "outputs": [],
   "source": [
    "import math"
   ]
  },
  {
   "cell_type": "code",
   "execution_count": 29,
   "metadata": {},
   "outputs": [
    {
     "data": {
      "text/plain": [
       "['__doc__',\n",
       " '__loader__',\n",
       " '__name__',\n",
       " '__package__',\n",
       " '__spec__',\n",
       " 'acos',\n",
       " 'acosh',\n",
       " 'asin',\n",
       " 'asinh',\n",
       " 'atan',\n",
       " 'atan2',\n",
       " 'atanh',\n",
       " 'cbrt',\n",
       " 'ceil',\n",
       " 'comb',\n",
       " 'copysign',\n",
       " 'cos',\n",
       " 'cosh',\n",
       " 'degrees',\n",
       " 'dist',\n",
       " 'e',\n",
       " 'erf',\n",
       " 'erfc',\n",
       " 'exp',\n",
       " 'exp2',\n",
       " 'expm1',\n",
       " 'fabs',\n",
       " 'factorial',\n",
       " 'floor',\n",
       " 'fmod',\n",
       " 'frexp',\n",
       " 'fsum',\n",
       " 'gamma',\n",
       " 'gcd',\n",
       " 'hypot',\n",
       " 'inf',\n",
       " 'isclose',\n",
       " 'isfinite',\n",
       " 'isinf',\n",
       " 'isnan',\n",
       " 'isqrt',\n",
       " 'lcm',\n",
       " 'ldexp',\n",
       " 'lgamma',\n",
       " 'log',\n",
       " 'log10',\n",
       " 'log1p',\n",
       " 'log2',\n",
       " 'modf',\n",
       " 'nan',\n",
       " 'nextafter',\n",
       " 'perm',\n",
       " 'pi',\n",
       " 'pow',\n",
       " 'prod',\n",
       " 'radians',\n",
       " 'remainder',\n",
       " 'sin',\n",
       " 'sinh',\n",
       " 'sqrt',\n",
       " 'sumprod',\n",
       " 'tan',\n",
       " 'tanh',\n",
       " 'tau',\n",
       " 'trunc',\n",
       " 'ulp']"
      ]
     },
     "execution_count": 29,
     "metadata": {},
     "output_type": "execute_result"
    }
   ],
   "source": [
    "dir(math)"
   ]
  },
  {
   "cell_type": "code",
   "execution_count": 30,
   "metadata": {},
   "outputs": [
    {
     "name": "stdout",
     "output_type": "stream",
     "text": [
      "the number is greater than zero\n"
     ]
    }
   ],
   "source": [
    "i = input(\"enter number:\")\n",
    "if i==0:\n",
    "    print(\"number is zero\")\n",
    "else:\n",
    "    print(\"the number is greater than zero\")"
   ]
  },
  {
   "cell_type": "code",
   "execution_count": 38,
   "metadata": {},
   "outputs": [
    {
     "name": "stdout",
     "output_type": "stream",
     "text": [
      "the number is zero\n"
     ]
    }
   ],
   "source": [
    "i = input(\"enter number:\")\n",
    "i==0\n",
    "if True:\n",
    "    print(\"the number is zero\")\n",
    "else:\n",
    "    print(\"the number is not equal to zero\")"
   ]
  },
  {
   "cell_type": "code",
   "execution_count": 39,
   "metadata": {},
   "outputs": [
    {
     "name": "stdout",
     "output_type": "stream",
     "text": [
      "b is bigger\n"
     ]
    }
   ],
   "source": [
    "a = 5\n",
    "b = 10\n",
    "if a<b:\n",
    "    print(\"b is bigger\")\n",
    "    \n",
    "else:\n",
    "    print(\"a is bigger\")"
   ]
  },
  {
   "cell_type": "code",
   "execution_count": 44,
   "metadata": {},
   "outputs": [
    {
     "name": "stdout",
     "output_type": "stream",
     "text": [
      "a is bigger\n"
     ]
    }
   ],
   "source": [
    "a = input(\"enter number\")\n",
    "b = input(\"enter nummber\")\n",
    "if a<b:\n",
    "    print (\"b is bigger\")\n",
    "elif a == b:\n",
    "    print(\"a and b is equal\")\n",
    "else:\n",
    "    print(\"a is bigger\")\n"
   ]
  },
  {
   "cell_type": "code",
   "execution_count": 56,
   "metadata": {},
   "outputs": [
    {
     "name": "stdout",
     "output_type": "stream",
     "text": [
      "1\n",
      "4\n",
      "7\n"
     ]
    }
   ],
   "source": [
    "#a = input(\"enter number\")\n",
    "#b = input(\"enter nummber\")\n",
    "for a in range(1,10,3):\n",
    "    print(a)"
   ]
  },
  {
   "cell_type": "code",
   "execution_count": 57,
   "metadata": {},
   "outputs": [
    {
     "name": "stdout",
     "output_type": "stream",
     "text": [
      "[1, 64, 343]\n"
     ]
    }
   ],
   "source": [
    "#x = input(\"enter number\")\n",
    "cubes = [x**3 for x in range (1,10,3)]\n",
    "print(cubes)"
   ]
  },
  {
   "cell_type": "code",
   "execution_count": 68,
   "metadata": {},
   "outputs": [
    {
     "name": "stdout",
     "output_type": "stream",
     "text": [
      "a is  4\n"
     ]
    }
   ],
   "source": [
    "a = int(input(\"enter number\"))\n",
    "while(a<10):\n",
    "    print(\"a is \", a)\n",
    "    break"
   ]
  },
  {
   "cell_type": "code",
   "execution_count": 75,
   "metadata": {},
   "outputs": [],
   "source": [
    "def f1(name):\n",
    "    return f\"hi, {name}!\""
   ]
  },
  {
   "cell_type": "code",
   "execution_count": 78,
   "metadata": {},
   "outputs": [
    {
     "name": "stdout",
     "output_type": "stream",
     "text": [
      "hi, Alice!\n"
     ]
    }
   ],
   "source": [
    "message = f1(\"Alice\")\n",
    "print(message)"
   ]
  },
  {
   "cell_type": "code",
   "execution_count": 80,
   "metadata": {},
   "outputs": [],
   "source": [
    "emp_id = [1001,1002,1003]\n",
    "emp_name = ('x','y','z')\n",
    "emp_addr = {'a', 'b','c'}"
   ]
  },
  {
   "cell_type": "code",
   "execution_count": 81,
   "metadata": {},
   "outputs": [
    {
     "name": "stdout",
     "output_type": "stream",
     "text": [
      "[1001, 1002, 1003] <class 'list'> 2194502747840\n"
     ]
    }
   ],
   "source": [
    "print(emp_id, type(emp_id), id(emp_id))\n"
   ]
  },
  {
   "cell_type": "code",
   "execution_count": 82,
   "metadata": {},
   "outputs": [
    {
     "name": "stdout",
     "output_type": "stream",
     "text": [
      "('x', 'y', 'z') <class 'tuple'> 2194501710720\n"
     ]
    }
   ],
   "source": [
    "print(emp_name, type(emp_name), id(emp_name))\n"
   ]
  },
  {
   "cell_type": "code",
   "execution_count": 83,
   "metadata": {},
   "outputs": [
    {
     "name": "stdout",
     "output_type": "stream",
     "text": [
      "{'a', 'c', 'b'} <class 'set'> 2194494353952\n"
     ]
    }
   ],
   "source": [
    "print(emp_addr, type(emp_addr), id(emp_addr))\n",
    "9"
   ]
  },
  {
   "cell_type": "code",
   "execution_count": 85,
   "metadata": {},
   "outputs": [
    {
     "name": "stdout",
     "output_type": "stream",
     "text": [
      "5.0\n"
     ]
    }
   ],
   "source": [
    "import math\n",
    "print(math.cbrt(125))"
   ]
  },
  {
   "cell_type": "code",
   "execution_count": null,
   "metadata": {},
   "outputs": [],
   "source": []
  },
  {
   "cell_type": "code",
   "execution_count": 92,
   "metadata": {},
   "outputs": [
    {
     "name": "stdout",
     "output_type": "stream",
     "text": [
      "you are a children\n"
     ]
    }
   ],
   "source": [
    "age = int(input(\"enter your age\"))\n",
    "if age >= 60:\n",
    "    print(\"you are a senior citizen\")\n",
    "elif age >= 18:\n",
    "    print(\"you are an adult\")\n",
    "else:\n",
    "    print(\"you are a children\")\n",
    "\n"
   ]
  },
  {
   "cell_type": "markdown",
   "metadata": {},
   "source": []
  },
  {
   "cell_type": "code",
   "execution_count": null,
   "metadata": {},
   "outputs": [],
   "source": [
    "num = int(input(\"enter your number\"))\n"
   ]
  },
  {
   "cell_type": "code",
   "execution_count": null,
   "metadata": {},
   "outputs": [],
   "source": []
  }
 ],
 "metadata": {
  "kernelspec": {
   "display_name": "Python 3",
   "language": "python",
   "name": "python3"
  },
  "language_info": {
   "codemirror_mode": {
    "name": "ipython",
    "version": 3
   },
   "file_extension": ".py",
   "mimetype": "text/x-python",
   "name": "python",
   "nbconvert_exporter": "python",
   "pygments_lexer": "ipython3",
   "version": "3.12.0"
  }
 },
 "nbformat": 4,
 "nbformat_minor": 2
}
